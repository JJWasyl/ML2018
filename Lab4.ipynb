{
 "cells": [
  {
   "cell_type": "code",
   "execution_count": 612,
   "metadata": {},
   "outputs": [],
   "source": [
    "import numpy as np\n",
    "import matplotlib.pyplot as plt\n",
    "import random\n",
    "import math\n",
    "%matplotlib inline"
   ]
  },
  {
   "cell_type": "code",
   "execution_count": 631,
   "metadata": {},
   "outputs": [],
   "source": [
    "c = 3 #clusters\n",
    "m = 2.0 #so-called fuzzifier\n",
    "error = 0.001\n",
    "max_iter = 100\n",
    "space = [[1, 0], [0, 1]]\n",
    "\n",
    "X=np.array([(4,1940),(9,2960),(9,4630),(78,1528),(90,2040),(50,3700),(467,14815),(509,15200),(290,15700),(215,6045)])\n",
    "train_data = np.array(X)\n",
    "max_values = train_data.max(0)\n",
    "\n",
    "X_norm = np.divide(train_data,max_values)"
   ]
  },
  {
   "cell_type": "code",
   "execution_count": 614,
   "metadata": {},
   "outputs": [
    {
     "data": {
      "text/plain": [
       "array([[1., 1., 1., 1., 1., 1., 1., 1., 1., 1.],\n",
       "       [1., 1., 1., 1., 1., 1., 1., 1., 1., 1.],\n",
       "       [1., 1., 1., 1., 1., 1., 1., 1., 1., 1.]])"
      ]
     },
     "execution_count": 614,
     "metadata": {},
     "output_type": "execute_result"
    }
   ],
   "source": [
    "#random Assignation matrix\n",
    "#U = np.random.sample(size=(c, len(X)))\n",
    "U = np.ones((c, len(X)))\n",
    "U"
   ]
  },
  {
   "cell_type": "code",
   "execution_count": 615,
   "metadata": {},
   "outputs": [],
   "source": [
    "#generate a series of centroids\n",
    "def select_centers(c):\n",
    "    iter = 0\n",
    "    centers = []\n",
    "    global space\n",
    "    iter=0\n",
    "    while iter < c:\n",
    "        centers.append((random.uniform(space[0][0],space[0][1]), \n",
    "                        random.uniform(space[1][0],space[1][1])))\n",
    "        iter=iter+1\n",
    "    return centers"
   ]
  },
  {
   "cell_type": "code",
   "execution_count": 616,
   "metadata": {},
   "outputs": [
    {
     "data": {
      "text/plain": [
       "[(0.7747569390666491, 0.7003109618710837),\n",
       " (0.9911505149208503, 0.2084229631260489),\n",
       " (0.5576209550127225, 0.2906578196795955)]"
      ]
     },
     "execution_count": 616,
     "metadata": {},
     "output_type": "execute_result"
    }
   ],
   "source": [
    "v = select_centers(c)\n",
    "v"
   ]
  },
  {
   "cell_type": "code",
   "execution_count": 617,
   "metadata": {},
   "outputs": [],
   "source": [
    "#Defining the mahalnobis distance\n",
    "def mahaldist(Xk, vi, space):\n",
    "    VI_inv = np.linalg.inv(space)\n",
    "    md2 = np.transpose((np.subtract(Xk, vi)))\n",
    "    md2 = md2.dot(VI_inv)\n",
    "    md2 = md2.dot(np.subtract(Xk, vi))\n",
    "    return (md2**(.5))"
   ]
  },
  {
   "cell_type": "code",
   "execution_count": 618,
   "metadata": {},
   "outputs": [],
   "source": [
    "#defining the eta value\n",
    "def eta(u, m, d):\n",
    "    um = u**m\n",
    "    numerator = np.sum(np.dot(um, d**2))\n",
    "    return numerator/np.sum(um)"
   ]
  },
  {
   "cell_type": "code",
   "execution_count": 619,
   "metadata": {},
   "outputs": [],
   "source": [
    "def column(matrix, i):\n",
    "    return [row[i] for row in matrix]"
   ]
  },
  {
   "cell_type": "code",
   "execution_count": 620,
   "metadata": {},
   "outputs": [
    {
     "data": {
      "text/plain": [
       "array([[0.00785855, 0.12356688],\n",
       "       [0.01768173, 0.18853503],\n",
       "       [0.01768173, 0.29490446],\n",
       "       [0.15324165, 0.09732484],\n",
       "       [0.17681729, 0.12993631],\n",
       "       [0.09823183, 0.23566879],\n",
       "       [0.91748527, 0.94363057],\n",
       "       [1.        , 0.96815287],\n",
       "       [0.5697446 , 1.        ],\n",
       "       [0.42239686, 0.38503185]])"
      ]
     },
     "execution_count": 620,
     "metadata": {},
     "output_type": "execute_result"
    }
   ],
   "source": [
    "X_norm"
   ]
  },
  {
   "cell_type": "code",
   "execution_count": 621,
   "metadata": {},
   "outputs": [],
   "source": [
    "#using the aformentioned functions we can caluclate new iterations of U\n",
    "def calc_u(X, U, v, c, m, space):\n",
    "    S, N = X.shape\n",
    "    newU = np.copy(U)\n",
    "    for i in range(c):\n",
    "        for k in range(N):\n",
    "            d = mahaldist(column(X, k), v[i], space)\n",
    "            n = eta(U[i][k], m, d)\n",
    "            exp = 2./(m-1)\n",
    "            d = d/n\n",
    "            d = d**exp\n",
    "            newU[i][k] = (1. + d)**(-1)\n",
    "            \n",
    "    return newU"
   ]
  },
  {
   "cell_type": "code",
   "execution_count": 622,
   "metadata": {
    "scrolled": true
   },
   "outputs": [
    {
     "data": {
      "text/plain": [
       "array([[0.47937461, 0.45506388, 0.42446616, 0.42853012, 0.40577318,\n",
       "        0.40247801, 0.07371026, 0.10911055, 0.11648569, 0.18271177],\n",
       "       [0.49343072, 0.48666273, 0.48852258, 0.41671714, 0.40094606,\n",
       "        0.44384074, 0.35315139, 0.36599227, 0.4457307 , 0.26181361],\n",
       "       [0.24820966, 0.23192927, 0.22573796, 0.16729138, 0.14591441,\n",
       "        0.17631895, 0.35727515, 0.39566039, 0.33480267, 0.02647218]])"
      ]
     },
     "execution_count": 622,
     "metadata": {},
     "output_type": "execute_result"
    }
   ],
   "source": [
    "new_U = calc_u(np.transpose(X_norm), U, v, c, m, space)\n",
    "new_U"
   ]
  },
  {
   "cell_type": "code",
   "execution_count": 623,
   "metadata": {},
   "outputs": [],
   "source": [
    "def calculate_differences(old_assignation, new_assignation):        \n",
    "    return np.sum(np.abs(np.subtract(old_assignation, new_assignation)))"
   ]
  },
  {
   "cell_type": "code",
   "execution_count": 778,
   "metadata": {},
   "outputs": [],
   "source": [
    "#Function to calcuate subsequent sets of centers\n",
    "#@params: X - observations, U - assignation matrix, c - groups, m - modifier\n",
    "def new_centers(X, U, c, m):\n",
    "    new_v = []\n",
    "    S, N = X.shape\n",
    "    for i in range(c):\n",
    "        numerator = np.zeros(2)\n",
    "        denominator = 0\n",
    "        for k in range(N):\n",
    "            xk = column(X, k)\n",
    "            numerator = np.add(numerator, np.dot(U[i][k]**m, xk))\n",
    "            denominator += U[i][k]**m\n",
    "        new_v.append(np.divide(numerator, denominator))\n",
    "    return new_v"
   ]
  },
  {
   "cell_type": "code",
   "execution_count": 756,
   "metadata": {},
   "outputs": [],
   "source": [
    "#The combined fkm clustering algorithm with its own set of variables\n",
    "#Takes normalized X - observation 2D arrays as argument\n",
    "def fkm(X, c=2, m=2, err=0.001, max_iter=100):\n",
    "    space = [[1, 0],[0, 1]]\n",
    "    U = np.ones((c, len(X)))\n",
    "    v = select_centers(c)\n",
    "    diff_limit = True\n",
    "    iter = 0\n",
    "    while diff_limit:\n",
    "        newU = calc_u(np.transpose(X), U, v, c, m, space)\n",
    "        v = new_centers(np.transpose(X), newU, c, m)\n",
    "\n",
    "        if iter > 0:\n",
    "            if np.absolute(calculate_differences(U, newU)) < err:\n",
    "                diff_limit = False\n",
    "        if iter > max_iter:\n",
    "            break\n",
    "        U = np.copy(newU)\n",
    "        iter += 1\n",
    "        \n",
    "    return (v, U)"
   ]
  },
  {
   "cell_type": "code",
   "execution_count": 736,
   "metadata": {},
   "outputs": [],
   "source": [
    "centroids, assignation = fkm(X_norm)"
   ]
  },
  {
   "cell_type": "code",
   "execution_count": 737,
   "metadata": {},
   "outputs": [
    {
     "data": {
      "text/plain": [
       "[array([0.85426223, 0.95660429]), array([0.09834448, 0.19062344])]"
      ]
     },
     "execution_count": 737,
     "metadata": {},
     "output_type": "execute_result"
    }
   ],
   "source": [
    "centroids"
   ]
  },
  {
   "cell_type": "code",
   "execution_count": 738,
   "metadata": {},
   "outputs": [
    {
     "data": {
      "text/plain": [
       "array([[0.58512258, 0.56328013, 0.53221049, 0.55152748, 0.5332145 ,\n",
       "        0.52183538, 0.00414819, 0.02092563, 0.07649696, 0.33915003],\n",
       "       [0.01252541, 0.00646872, 0.01708407, 0.0115826 , 0.00974501,\n",
       "        0.00202499, 0.55317475, 0.58635547, 0.4673225 , 0.12495975]])"
      ]
     },
     "execution_count": 738,
     "metadata": {},
     "output_type": "execute_result"
    }
   ],
   "source": [
    "assignation"
   ]
  },
  {
   "cell_type": "code",
   "execution_count": 739,
   "metadata": {
    "scrolled": true
   },
   "outputs": [
    {
     "data": {
      "image/png": "[encoded data removed]",
      "text/plain": [
       "<matplotlib.figure.Figure at 0x7ff153349550>"
      ]
     },
     "metadata": {},
     "output_type": "display_data"
    }
   ],
   "source": [
    "red = X_norm[np.where(np.array(np.transpose(assignation))[:,0]>0.3)]\n",
    "blue = X_norm[np.where(np.array(np.transpose(assignation))[:,1]>0.2)]\n",
    " \n",
    "fig, ax = plt.subplots()\n",
    "\n",
    "ax.scatter(blue[:,0],blue[:,1],c='blue')\n",
    "ax.scatter(red[:,0],red[:,1],c='red')\n",
    "ax.scatter(np.array(centroids)[:,0],np.array(centroids)[:,1],c='black')\n",
    "ax.set(xlabel='Seats count', ylabel='Distance range (km)',\n",
    "       title='Aircrafts (clusters)')\n",
    "ax.grid()\n",
    "plt.show()"
   ]
  }
 ],
 "metadata": {
  "kernelspec": {
   "display_name": "Python 3",
   "language": "python",
   "name": "python3"
  },
  "language_info": {
   "codemirror_mode": {
    "name": "ipython",
    "version": 3
   },
   "file_extension": ".py",
   "mimetype": "text/x-python",
   "name": "python",
   "nbconvert_exporter": "python",
   "pygments_lexer": "ipython3",
   "version": "3.6.4"
  }
 },
 "nbformat": 4,
 "nbformat_minor": 2
}
