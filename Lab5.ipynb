{
 "cells": [
  {
   "cell_type": "code",
   "execution_count": null,
   "metadata": {},
   "outputs": [],
   "source": [
    "'''\n",
    "Short implementation of a Czekanowski Dice index\n",
    "'''"
   ]
  },
  {
   "cell_type": "code",
   "execution_count": 2,
   "metadata": {},
   "outputs": [],
   "source": [
    "def czekanowski_dice_index(data_set,assignation):\n",
    "    TP = 0\n",
    "    FP = 0\n",
    "    TN = 0\n",
    "    FN = 0\n",
    "    for row_data, row_assign in data_set, assignation:\n",
    "        for pos_assign in row_assign:\n",
    "            if(row_data[-1] == pos_assign and pos_assign == 1):\n",
    "                TP += 1\n",
    "            elif(row_data[-1] == pos_assign and pos_assign == 0):\n",
    "                TN += 1\n",
    "            elif(row_data[-1] != pos_assign and pos_assign == 1):\n",
    "                FN += 1\n",
    "            else:\n",
    "                FP += 1\n",
    "    \n",
    "    conf_mat = [[TP, FP][FN, TN]]\n",
    "    \n",
    "    Precision = TP / (TP + FP)\n",
    "    Recall = TP / (TP + FN)\n",
    "    \n",
    "    return ((Precision * Recall) / (Precision + Recall))"
   ]
  },
  {
   "cell_type": "code",
   "execution_count": null,
   "metadata": {},
   "outputs": [],
   "source": []
  }
 ],
 "metadata": {
  "kernelspec": {
   "display_name": "Python 3",
   "language": "python",
   "name": "python3"
  },
  "language_info": {
   "codemirror_mode": {
    "name": "ipython",
    "version": 3
   },
   "file_extension": ".py",
   "mimetype": "text/x-python",
   "name": "python",
   "nbconvert_exporter": "python",
   "pygments_lexer": "ipython3",
   "version": "3.6.4"
  }
 },
 "nbformat": 4,
 "nbformat_minor": 2
}
