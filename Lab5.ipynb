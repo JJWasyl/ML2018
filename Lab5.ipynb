{
 "cells": [
  {
   "cell_type": "code",
   "execution_count": null,
   "metadata": {},
   "outputs": [],
   "source": [
    "'''\n",
    "Short implementation of a Czekanowski Dice index\n",
    "'''"
   ]
  },
  {
   "cell_type": "code",
   "execution_count": 1,
   "metadata": {},
   "outputs": [],
   "source": [
    "def czekanowski_dice_index(data_set,assignation,labels):\n",
    "    assigned_groups = []\n",
    "    for el in range(len(assignation)):\n",
    "        group_id = np.argmax(assignation[el])\n",
    "        assigned_groups.append(group_id)\n",
    "    # your code goes here:\n",
    "    dice = []\n",
    "    for label in labels:\n",
    "        for row in data_set:\n",
    "            for i in range(len(row)):\n",
    "                dice.append(np.sum(assigned_groups[row[i]==assignation[row][i]])*2.0 /\n",
    "                            (np.sum(row) + np.sum(assignation[row])))\n",
    "    return np.average(dice)"
   ]
  }
 ],
 "metadata": {
  "kernelspec": {
   "display_name": "Python 3",
   "language": "python",
   "name": "python3"
  },
  "language_info": {
   "codemirror_mode": {
    "name": "ipython",
    "version": 3
   },
   "file_extension": ".py",
   "mimetype": "text/x-python",
   "name": "python",
   "nbconvert_exporter": "python",
   "pygments_lexer": "ipython3",
   "version": "3.6.4"
  }
 },
 "nbformat": 4,
 "nbformat_minor": 2
}
