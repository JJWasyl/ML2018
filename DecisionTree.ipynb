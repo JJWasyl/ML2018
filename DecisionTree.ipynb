{
 "cells": [
  {
   "cell_type": "code",
   "execution_count": 28,
   "metadata": {
    "scrolled": true
   },
   "outputs": [
    {
     "data": {
      "text/plain": [
       "'\\nProgram implementing a basic decision tree in python\\nIt was created using the tutorial article found on:\\nhttps://machinelearningmastery.com/implement-decision-tree-algorithm-scratch-python/\\nwith some personal modifications\\n'"
      ]
     },
     "execution_count": 28,
     "metadata": {},
     "output_type": "execute_result"
    }
   ],
   "source": [
    "'''\n",
    "Program implementing a basic decision tree in python\n",
    "It was created using the tutorial article found on:\n",
    "https://machinelearningmastery.com/implement-decision-tree-algorithm-scratch-python/\n",
    "with some personal modifications\n",
    "'''"
   ]
  },
  {
   "cell_type": "code",
   "execution_count": 29,
   "metadata": {
    "scrolled": true
   },
   "outputs": [],
   "source": [
    "'''\n",
    "The gini index will score the value of a split and whether or not is is optimal\n",
    "Ideally we are looking for a 50:50 split which will result in a 0.00 gini score\n",
    "'''\n",
    "\n",
    "#Calculate the Gini index\n",
    "def gini_index(groups, classes):\n",
    "    n_instances = float(sum([len(group) for group in groups]))\n",
    "    gini = 0\n",
    "    for group in groups:\n",
    "        size = float(len(group))\n",
    "        if size == 0:\n",
    "            continue\n",
    "        score = 0.0\n",
    "        for class_val in classes:\n",
    "            p = [row[-1] for row in group].count(class_val) / size\n",
    "            score += p**2\n",
    "        \n",
    "        gini += (1.0 - score) * (size/n_instances)\n",
    "        \n",
    "    return gini"
   ]
  },
  {
   "cell_type": "code",
   "execution_count": 30,
   "metadata": {},
   "outputs": [],
   "source": [
    "'''\n",
    "Now we implement a splitting fuction\n",
    "'''\n",
    "#Returns a tuple comprised of two lists with datapoints\n",
    "#Here the index equal to the split value goes to the right\n",
    "def split_set(index, value, dataset):\n",
    "    left, right = list(), list()\n",
    "    for row in dataset:\n",
    "        if row[index] < value:\n",
    "            left.append(row)\n",
    "        else:\n",
    "            right.append(row)\n",
    "    return left, right"
   ]
  },
  {
   "cell_type": "code",
   "execution_count": 31,
   "metadata": {},
   "outputs": [],
   "source": [
    "'''\n",
    "This function evalueates each attribute except the value for split potential\n",
    "'''\n",
    "def find_split(dataset):\n",
    "    class_values = list(set(row[-1] for row in dataset))\n",
    "    b_index, b_value, b_score, b_groups = 999, 999, 999, None\n",
    "    for index in range(len(dataset[0])-1):\n",
    "        for row in dataset:\n",
    "            groups = split_set(index, row[index], dataset)\n",
    "            gini = gini_index(groups, class_values)\n",
    "            if gini < b_score:\n",
    "                b_index, b_value, b_score, b_groups = index, row[index], gini, groups\n",
    "    \n",
    "    return {'index':b_index, 'value':b_value, 'groups':b_groups}"
   ]
  },
  {
   "cell_type": "code",
   "execution_count": 32,
   "metadata": {},
   "outputs": [
    {
     "data": {
      "text/plain": [
       "[[3.428984294533204, 7.385083710483256, 5.417881167941312, 0],\n",
       " [5.616638138199577, 6.554369248324911, 2.6846458607758312, 1],\n",
       " [6.172563587534302, 8.362288111406883, 5.632005019980435, 0],\n",
       " [1.8230502672629383, 6.344209080416231, 8.843893986598468, 0],\n",
       " [9.15487200436044, 7.4896112524251, 9.009086770033141, 0],\n",
       " [2.7834909038819564, 4.0460027131722995, 9.377116692427581, 0],\n",
       " [3.7752896031615406, 9.890420015225411, 5.898878869994587, 1],\n",
       " [5.12735876526717, 4.313469728779825, 7.139712916904053, 1],\n",
       " [7.861306884290304, 8.631127235615136, 5.364843049028224, 1],\n",
       " [6.469457527556306, 6.540916474836575, 1.3843074930067685, 0],\n",
       " [8.19385794351623, 9.950020442882531, 3.618234954023822, 1],\n",
       " [4.910023923146414, 0.9246171523618356, 1.8468885669330375, 1],\n",
       " [5.539796488401742, 5.068874023995933, 2.060027944965388, 0],\n",
       " [1.2653549176677839, 5.903478092121263, 4.422688186647855, 0],\n",
       " [6.035117321743658, 7.0377429608677975, 4.413442382208564, 0]]"
      ]
     },
     "execution_count": 32,
     "metadata": {},
     "output_type": "execute_result"
    }
   ],
   "source": [
    "'''\n",
    "We introduce a random dataset to test out the algorithm\n",
    "'''\n",
    "import random\n",
    "dataset = []\n",
    "datapoints = 15\n",
    "classes = 2\n",
    "attributes = 3\n",
    "\n",
    "for x in range(datapoints):\n",
    "    row = []\n",
    "    for j in range(attributes):\n",
    "        row.append(random.uniform(0.5, 10.0))\n",
    "        \n",
    "    #Adding class value\n",
    "    row.append(random.randint(0, classes-1))\n",
    "    dataset.append(row)\n",
    "\n",
    "#Below is the generated dataset\n",
    "#print(dataset)\n",
    "dataset"
   ]
  },
  {
   "cell_type": "code",
   "execution_count": 33,
   "metadata": {
    "scrolled": true
   },
   "outputs": [
    {
     "name": "stdout",
     "output_type": "stream",
     "text": [
      "Split: [X2 < 8.631]\n"
     ]
    }
   ],
   "source": [
    "'''\n",
    "We perform the split\n",
    "Our algorithm will parse every 'axis' of the dataset to find the best solution\n",
    "'''\n",
    "split = find_split(dataset)\n",
    "print('Split: [X%d < %.3f]' % ((split['index']+1), split['value']))"
   ]
  },
  {
   "cell_type": "code",
   "execution_count": 34,
   "metadata": {},
   "outputs": [
    {
     "data": {
      "text/plain": [
       "'\\nNow we move on to creating the tree\\nWe will look out for two important factors:\\nA. Respect the maximum tree depth to not overfit the data\\nB. Set a minimum amount of training patterns for each node, once at or below, we will stop expanding it\\n'"
      ]
     },
     "execution_count": 34,
     "metadata": {},
     "output_type": "execute_result"
    }
   ],
   "source": [
    "'''\n",
    "Now we move on to creating the tree\n",
    "We will look out for two important factors:\n",
    "A. Respect the maximum tree depth to not overfit the data\n",
    "B. Set a minimum amount of training patterns for each node, once at or below, we will stop expanding it\n",
    "'''"
   ]
  },
  {
   "cell_type": "code",
   "execution_count": 35,
   "metadata": {},
   "outputs": [],
   "source": [
    "'''\n",
    "Since we have to do some rounding up on terminal nodes (the last nodes in a branch)\n",
    "This function approximates the common class value for a list of rows\n",
    "'''\n",
    "def to_terminal(group):\n",
    "    outcomes = [row[-1] for row in group]\n",
    "    return max(set(outcomes), key=outcomes.count)"
   ]
  },
  {
   "cell_type": "code",
   "execution_count": 44,
   "metadata": {},
   "outputs": [],
   "source": [
    "'''\n",
    "We use recursive splitting to populate our nodes\n",
    "'''\n",
    "def rec_split(node, max_depth, min_size, depth):\n",
    "    left, right = node['groups']\n",
    "    del(node['groups'])\n",
    "    \n",
    "    #If no split\n",
    "    if not left or not right:\n",
    "        node['left'] = node['right'] = to_terminal(left+right)\n",
    "        return\n",
    "    \n",
    "    #If max depth reached\n",
    "    if depth >= max_depth:\n",
    "        node['left'], node['right'] = to_terminal(left), to_terminal(right)\n",
    "        return\n",
    "    \n",
    "    #process left child\n",
    "    if len(left) <= min_size:\n",
    "        node['left'] = to_terminal(left)\n",
    "    else:\n",
    "        node['left'] = find_split(left)\n",
    "        rec_split(node['left'], max_depth, min_size, depth+1)\n",
    "        \n",
    "    #process right child\n",
    "    if len(right) <= min_size:\n",
    "        node['right'] = to_terminal(right)\n",
    "    else:\n",
    "        node['right'] = find_split(right)\n",
    "        rec_split(node['right'], max_depth, min_size, depth+1)"
   ]
  },
  {
   "cell_type": "code",
   "execution_count": 45,
   "metadata": {},
   "outputs": [],
   "source": [
    "'''\n",
    "Build and print tree method\n",
    "'''\n",
    "def build_tree(train, max_depth, min_size):\n",
    "    root = find_split(train)\n",
    "    rec_split(root, max_depth, min_size, 1)\n",
    "    return root\n",
    "\n",
    "def print_tree(node, depth=0):\n",
    "    if isinstance(node, dict):\n",
    "        print('%s[X%d < %.3f]' % ((depth*' ', (node['index']+1), node['value'])))\n",
    "        print_tree(node['left'], depth+1)\n",
    "    else:\n",
    "        print('%s[%s]' % ((depth*' ', node)))"
   ]
  },
  {
   "cell_type": "code",
   "execution_count": 46,
   "metadata": {},
   "outputs": [
    {
     "name": "stdout",
     "output_type": "stream",
     "text": [
      "[X2 < 8.631]\n",
      " [X2 < 5.069]\n",
      "  [X1 < 4.910]\n",
      "   [0]\n",
      "   [X1 < 5.127]\n",
      "    [1]\n",
      "    [1]\n",
      "  [X3 < 4.413]\n",
      "   [X2 < 6.554]\n",
      "    [X1 < 6.469]\n",
      "     [0]\n",
      "     [0]\n",
      "    [1]\n",
      "   [X1 < 3.429]\n",
      "    [X1 < 1.823]\n",
      "     [0]\n",
      "     [0]\n",
      "    [X1 < 3.429]\n",
      "     [0]\n",
      "     [0]\n",
      " [X1 < 3.775]\n",
      "  [1]\n",
      "  [1]\n"
     ]
    }
   ],
   "source": [
    "'''\n",
    "Now we can build a decision tree and get better splits\n",
    "'''\n",
    "tree = build_tree(dataset, 5, 1)\n",
    "print_tree(tree)"
   ]
  },
  {
   "cell_type": "code",
   "execution_count": null,
   "metadata": {},
   "outputs": [],
   "source": []
  }
 ],
 "metadata": {
  "kernelspec": {
   "display_name": "Python 3",
   "language": "python",
   "name": "python3"
  },
  "language_info": {
   "codemirror_mode": {
    "name": "ipython",
    "version": 3
   },
   "file_extension": ".py",
   "mimetype": "text/x-python",
   "name": "python",
   "nbconvert_exporter": "python",
   "pygments_lexer": "ipython3",
   "version": "3.6.4"
  }
 },
 "nbformat": 4,
 "nbformat_minor": 2
}
